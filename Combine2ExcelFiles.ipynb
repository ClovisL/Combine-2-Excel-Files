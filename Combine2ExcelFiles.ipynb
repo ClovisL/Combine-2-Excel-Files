{
  "nbformat": 4,
  "nbformat_minor": 0,
  "metadata": {
    "colab": {
      "provenance": [],
      "authorship_tag": "ABX9TyPF/m6BxvYkdmiN2NjssGY3",
      "include_colab_link": true
    },
    "kernelspec": {
      "name": "python3",
      "display_name": "Python 3"
    },
    "language_info": {
      "name": "python"
    }
  },
  "cells": [
    {
      "cell_type": "markdown",
      "metadata": {
        "id": "view-in-github",
        "colab_type": "text"
      },
      "source": [
        "<a href=\"https://colab.research.google.com/github/ClovisL/Combine-2-Excel-Files/blob/main/Combine2ExcelFiles.ipynb\" target=\"_parent\"><img src=\"https://colab.research.google.com/assets/colab-badge.svg\" alt=\"Open In Colab\"/></a>"
      ]
    },
    {
      "cell_type": "markdown",
      "source": [
        "Upload 2 Excel **(.xlsx)** files. They will preferably have the same columns, otherwise NaN values will be placed in rows that do not have a value for certain columns. This is intended to combine multiple files that contain the same type of information, but may have different ranges, such as dates *(for example, combine data from the month of July with data from the month of June)*."
      ],
      "metadata": {
        "id": "qwBuiohPkH9l"
      }
    },
    {
      "cell_type": "markdown",
      "source": [
        "## **First File To Upload**"
      ],
      "metadata": {
        "id": "fl-1e7iVleA1"
      }
    },
    {
      "cell_type": "code",
      "source": [
        "from google.colab import files\n",
        "# Brings up the prompt to upload the first file\n",
        "# If an error message appears, try enabling cookies for the site in your browser settings\n",
        "data_to_load1 = files.upload()"
      ],
      "metadata": {
        "id": "r1ieB5s1lQ5F"
      },
      "execution_count": null,
      "outputs": []
    },
    {
      "cell_type": "markdown",
      "source": [
        "## **Second File To Upload**"
      ],
      "metadata": {
        "id": "JU3BNS2FlkqO"
      }
    },
    {
      "cell_type": "code",
      "source": [
        "# Upload the second file\n",
        "data_to_load2 = files.upload()"
      ],
      "metadata": {
        "id": "xanKzKLolVlq"
      },
      "execution_count": null,
      "outputs": []
    },
    {
      "cell_type": "markdown",
      "source": [
        "## The 2 excel files are read, made into dataframes, then both frames are combined into a new dataframe and exported as a new Excel file."
      ],
      "metadata": {
        "id": "KVmaWBqJlqqO"
      }
    },
    {
      "cell_type": "code",
      "execution_count": null,
      "metadata": {
        "id": "n5PsT_G0j-5W"
      },
      "outputs": [],
      "source": [
        "import pandas as pd\n",
        "\n",
        "# list of the uploaded files\n",
        "file_list = [data_to_load1, data_to_load2]\n",
        " \n",
        "# list of excel files to merge\n",
        "# reads the excel data into pandas dataframe\n",
        "excel_list = []\n",
        "for file in file_list:\n",
        "    excel_list.append(pd.read_excel(list(file.keys())[0]))\n",
        "\n",
        "# concatenate all dataframes in the list into a single dataframe, returns new dataframe\n",
        "merged_df = pd.concat(excel_list, ignore_index=True)\n",
        "merged_df"
      ]
    },
    {
      "cell_type": "markdown",
      "source": [
        "### Exports the dataframe as an Excel spreadsheet. After running this cell, a file will appear in the \"Files\" tab to the left, denoted by the 📁 folder icon. Click the folder icon to open the list of files, then right click and download the combined Excel file."
      ],
      "metadata": {
        "id": "UV5NcmRAoJ1b"
      }
    },
    {
      "cell_type": "code",
      "source": [
        "import openpyxl\n",
        "\n",
        "# Creates a new generic file name and exports the dataframe as an Excel spreadsheet. I recommend renaming the file to something more descriptive.\n",
        "merged_df.to_excel(f'Combined Data.xlsx', index = False)"
      ],
      "metadata": {
        "id": "QtA4yVT7nEnK"
      },
      "execution_count": 16,
      "outputs": []
    }
  ]
}